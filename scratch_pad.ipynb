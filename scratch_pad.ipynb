{
 "cells": [
  {
   "cell_type": "markdown",
   "id": "selected-article",
   "metadata": {},
   "source": [
    "# Scratch Pad\n"
   ]
  },
  {
   "cell_type": "code",
   "execution_count": 111,
   "id": "later-corrections",
   "metadata": {},
   "outputs": [
    {
     "name": "stdout",
     "output_type": "stream",
     "text": [
      "The autoreload extension is already loaded. To reload it, use:\n",
      "  %reload_ext autoreload\n"
     ]
    }
   ],
   "source": [
    "%load_ext autoreload\n",
    "%autoreload 2\n",
    "\n",
    "import pandas as pd\n",
    "import math\n",
    "import random\n",
    "\n",
    "\n",
    "from common.Team import Team\n",
    "from common.Tournament import Tournament"
   ]
  },
  {
   "cell_type": "code",
   "execution_count": 35,
   "id": "registered-digest",
   "metadata": {},
   "outputs": [],
   "source": [
    "unc = Team(\"UNC\")"
   ]
  },
  {
   "cell_type": "code",
   "execution_count": 68,
   "id": "lasting-mayor",
   "metadata": {},
   "outputs": [],
   "source": [
    "tnm = Tournament()"
   ]
  },
  {
   "cell_type": "code",
   "execution_count": 82,
   "id": "ceramic-armenia",
   "metadata": {},
   "outputs": [],
   "source": [
    "def gen_random_team(name):\n",
    "    t = Team(name, random.random()*100)\n",
    "    return t\n",
    "\n",
    "\n",
    "# Generate random teams Set Round 1\n",
    "for i in range(32):\n",
    "    tnm.set_team(\"R01\", f\"G{str(i+1).zfill(2)}\", \"T1\", gen_random_team(f\"Team_{2*i+1}\"))\n",
    "    tnm.set_team(\"R01\", f\"G{str(i+1).zfill(2)}\", \"T2\", gen_random_team(f\"Team_{2*i+2}\"))"
   ]
  },
  {
   "cell_type": "code",
   "execution_count": 97,
   "id": "sunrise-israeli",
   "metadata": {},
   "outputs": [],
   "source": [
    "tnm.play_all_games_round(\"R01\")\n",
    "tnm.advance_winners_next_round(\"R01\")\n"
   ]
  },
  {
   "cell_type": "code",
   "execution_count": 98,
   "id": "inside-barrel",
   "metadata": {},
   "outputs": [
    {
     "name": "stdout",
     "output_type": "stream",
     "text": [
      "===== ROUND 1 =====\n",
      "G01: Team_1 (50.01)\tvs\tTeam_2 (83.32)\t\tWINNER: Team_2 (83.32)\n",
      "G02: Team_3 (79.16)\tvs\tTeam_4 (56.01)\t\tWINNER: Team_3 (79.16)\n",
      "G03: Team_5 (34.1)\tvs\tTeam_6 (0.23)\t\tWINNER: Team_5 (34.1)\n",
      "G04: Team_7 (84.19)\tvs\tTeam_8 (83.15)\t\tWINNER: Team_8 (83.15)\n",
      "G05: Team_9 (69.28)\tvs\tTeam_10 (7.98)\t\tWINNER: Team_10 (7.98)\n",
      "G06: Team_11 (83.74)\tvs\tTeam_12 (46.71)\t\tWINNER: Team_11 (83.74)\n",
      "G07: Team_13 (64.53)\tvs\tTeam_14 (23.78)\t\tWINNER: Team_13 (64.53)\n",
      "G08: Team_15 (2.82)\tvs\tTeam_16 (75.18)\t\tWINNER: Team_16 (75.18)\n",
      "G09: Team_17 (89.84)\tvs\tTeam_18 (65.12)\t\tWINNER: Team_18 (65.12)\n",
      "G10: Team_19 (51.77)\tvs\tTeam_20 (38.5)\t\tWINNER: Team_19 (51.77)\n",
      "G11: Team_21 (37.13)\tvs\tTeam_22 (78.4)\t\tWINNER: Team_21 (37.13)\n",
      "G12: Team_23 (7.62)\tvs\tTeam_24 (62.35)\t\tWINNER: Team_24 (62.35)\n",
      "G13: Team_25 (34.04)\tvs\tTeam_26 (15.2)\t\tWINNER: Team_25 (34.04)\n",
      "G14: Team_27 (62.34)\tvs\tTeam_28 (68.88)\t\tWINNER: Team_28 (68.88)\n",
      "G15: Team_29 (77.67)\tvs\tTeam_30 (7.93)\t\tWINNER: Team_29 (77.67)\n",
      "G16: Team_31 (59.14)\tvs\tTeam_32 (69.46)\t\tWINNER: Team_32 (69.46)\n",
      "G17: Team_33 (94.51)\tvs\tTeam_34 (18.99)\t\tWINNER: Team_33 (94.51)\n",
      "G18: Team_35 (34.0)\tvs\tTeam_36 (69.55)\t\tWINNER: Team_36 (69.55)\n",
      "G19: Team_37 (15.34)\tvs\tTeam_38 (79.16)\t\tWINNER: Team_38 (79.16)\n",
      "G20: Team_39 (70.79)\tvs\tTeam_40 (55.73)\t\tWINNER: Team_39 (70.79)\n",
      "G21: Team_41 (33.07)\tvs\tTeam_42 (59.27)\t\tWINNER: Team_41 (33.07)\n",
      "G22: Team_43 (12.96)\tvs\tTeam_44 (24.65)\t\tWINNER: Team_44 (24.65)\n",
      "G23: Team_45 (47.7)\tvs\tTeam_46 (59.73)\t\tWINNER: Team_45 (47.7)\n",
      "G24: Team_47 (32.33)\tvs\tTeam_48 (89.14)\t\tWINNER: Team_48 (89.14)\n",
      "G25: Team_49 (4.71)\tvs\tTeam_50 (39.28)\t\tWINNER: Team_50 (39.28)\n",
      "G26: Team_51 (87.02)\tvs\tTeam_52 (43.46)\t\tWINNER: Team_51 (87.02)\n",
      "G27: Team_53 (97.05)\tvs\tTeam_54 (12.44)\t\tWINNER: Team_53 (97.05)\n",
      "G28: Team_55 (60.28)\tvs\tTeam_56 (53.89)\t\tWINNER: Team_55 (60.28)\n",
      "G29: Team_57 (68.16)\tvs\tTeam_58 (41.08)\t\tWINNER: Team_57 (68.16)\n",
      "G30: Team_59 (27.64)\tvs\tTeam_60 (11.8)\t\tWINNER: Team_59 (27.64)\n",
      "G31: Team_61 (24.5)\tvs\tTeam_62 (0.02)\t\tWINNER: Team_61 (24.5)\n",
      "G32: Team_63 (31.88)\tvs\tTeam_64 (81.55)\t\tWINNER: Team_64 (81.55)\n",
      "\n"
     ]
    }
   ],
   "source": [
    "tnm.print_round(\"R01\")"
   ]
  },
  {
   "cell_type": "code",
   "execution_count": 108,
   "id": "italian-statement",
   "metadata": {},
   "outputs": [
    {
     "name": "stdout",
     "output_type": "stream",
     "text": [
      "===== ROUND 01 =====\n",
      "G01: Team_1 (50.01)\tvs\tTeam_2 (83.32)\tWINNER: Team_1 (50.01)\n",
      "G02: Team_3 (79.16)\tvs\tTeam_4 (56.01)\tWINNER: Team_4 (56.01)\n",
      "G03: Team_5 (34.1)\tvs\tTeam_6 (0.23)\tWINNER: Team_5 (34.1)\n",
      "G04: Team_7 (84.19)\tvs\tTeam_8 (83.15)\tWINNER: Team_7 (84.19)\n",
      "G05: Team_9 (69.28)\tvs\tTeam_10 (7.98)\tWINNER: Team_9 (69.28)\n",
      "G06: Team_11 (83.74)\tvs\tTeam_12 (46.71)\tWINNER: Team_12 (46.71)\n",
      "G07: Team_13 (64.53)\tvs\tTeam_14 (23.78)\tWINNER: Team_13 (64.53)\n",
      "G08: Team_15 (2.82)\tvs\tTeam_16 (75.18)\tWINNER: Team_16 (75.18)\n",
      "G09: Team_17 (89.84)\tvs\tTeam_18 (65.12)\tWINNER: Team_17 (89.84)\n",
      "G10: Team_19 (51.77)\tvs\tTeam_20 (38.5)\tWINNER: Team_19 (51.77)\n",
      "G11: Team_21 (37.13)\tvs\tTeam_22 (78.4)\tWINNER: Team_21 (37.13)\n",
      "G12: Team_23 (7.62)\tvs\tTeam_24 (62.35)\tWINNER: Team_24 (62.35)\n",
      "G13: Team_25 (34.04)\tvs\tTeam_26 (15.2)\tWINNER: Team_25 (34.04)\n",
      "G14: Team_27 (62.34)\tvs\tTeam_28 (68.88)\tWINNER: Team_27 (62.34)\n",
      "G15: Team_29 (77.67)\tvs\tTeam_30 (7.93)\tWINNER: Team_29 (77.67)\n",
      "G16: Team_31 (59.14)\tvs\tTeam_32 (69.46)\tWINNER: Team_32 (69.46)\n",
      "G17: Team_33 (94.51)\tvs\tTeam_34 (18.99)\tWINNER: Team_33 (94.51)\n",
      "G18: Team_35 (34.0)\tvs\tTeam_36 (69.55)\tWINNER: Team_36 (69.55)\n",
      "G19: Team_37 (15.34)\tvs\tTeam_38 (79.16)\tWINNER: Team_38 (79.16)\n",
      "G20: Team_39 (70.79)\tvs\tTeam_40 (55.73)\tWINNER: Team_40 (55.73)\n",
      "G21: Team_41 (33.07)\tvs\tTeam_42 (59.27)\tWINNER: Team_41 (33.07)\n",
      "G22: Team_43 (12.96)\tvs\tTeam_44 (24.65)\tWINNER: Team_43 (12.96)\n",
      "G23: Team_45 (47.7)\tvs\tTeam_46 (59.73)\tWINNER: Team_46 (59.73)\n",
      "G24: Team_47 (32.33)\tvs\tTeam_48 (89.14)\tWINNER: Team_48 (89.14)\n",
      "G25: Team_49 (4.71)\tvs\tTeam_50 (39.28)\tWINNER: Team_50 (39.28)\n",
      "G26: Team_51 (87.02)\tvs\tTeam_52 (43.46)\tWINNER: Team_51 (87.02)\n",
      "G27: Team_53 (97.05)\tvs\tTeam_54 (12.44)\tWINNER: Team_53 (97.05)\n",
      "G28: Team_55 (60.28)\tvs\tTeam_56 (53.89)\tWINNER: Team_56 (53.89)\n",
      "G29: Team_57 (68.16)\tvs\tTeam_58 (41.08)\tWINNER: Team_57 (68.16)\n",
      "G30: Team_59 (27.64)\tvs\tTeam_60 (11.8)\tWINNER: Team_60 (11.8)\n",
      "G31: Team_61 (24.5)\tvs\tTeam_62 (0.02)\tWINNER: Team_61 (24.5)\n",
      "G32: Team_63 (31.88)\tvs\tTeam_64 (81.55)\tWINNER: Team_63 (31.88)\n",
      "===== ROUND 02 =====\n",
      "G01: Team_1 (50.01)\tvs\tTeam_4 (56.01)\tWINNER: Team_4 (56.01)\n",
      "G02: Team_5 (34.1)\tvs\tTeam_7 (84.19)\tWINNER: Team_7 (84.19)\n",
      "G03: Team_9 (69.28)\tvs\tTeam_12 (46.71)\tWINNER: Team_9 (69.28)\n",
      "G04: Team_13 (64.53)\tvs\tTeam_16 (75.18)\tWINNER: Team_13 (64.53)\n",
      "G05: Team_17 (89.84)\tvs\tTeam_19 (51.77)\tWINNER: Team_19 (51.77)\n",
      "G06: Team_21 (37.13)\tvs\tTeam_24 (62.35)\tWINNER: Team_24 (62.35)\n",
      "G07: Team_25 (34.04)\tvs\tTeam_27 (62.34)\tWINNER: Team_27 (62.34)\n",
      "G08: Team_29 (77.67)\tvs\tTeam_32 (69.46)\tWINNER: Team_29 (77.67)\n",
      "G09: Team_33 (94.51)\tvs\tTeam_36 (69.55)\tWINNER: Team_33 (94.51)\n",
      "G10: Team_38 (79.16)\tvs\tTeam_40 (55.73)\tWINNER: Team_38 (79.16)\n",
      "G11: Team_41 (33.07)\tvs\tTeam_43 (12.96)\tWINNER: Team_41 (33.07)\n",
      "G12: Team_46 (59.73)\tvs\tTeam_48 (89.14)\tWINNER: Team_48 (89.14)\n",
      "G13: Team_50 (39.28)\tvs\tTeam_51 (87.02)\tWINNER: Team_51 (87.02)\n",
      "G14: Team_53 (97.05)\tvs\tTeam_56 (53.89)\tWINNER: Team_56 (53.89)\n",
      "G15: Team_57 (68.16)\tvs\tTeam_60 (11.8)\tWINNER: Team_57 (68.16)\n",
      "G16: Team_61 (24.5)\tvs\tTeam_63 (31.88)\tWINNER: Team_61 (24.5)\n",
      "===== ROUND 03 =====\n",
      "G01: Team_4 (56.01)\tvs\tTeam_7 (84.19)\tWINNER: Team_7 (84.19)\n",
      "G02: Team_9 (69.28)\tvs\tTeam_13 (64.53)\tWINNER: Team_9 (69.28)\n",
      "G03: Team_19 (51.77)\tvs\tTeam_24 (62.35)\tWINNER: Team_24 (62.35)\n",
      "G04: Team_27 (62.34)\tvs\tTeam_29 (77.67)\tWINNER: Team_27 (62.34)\n",
      "G05: Team_33 (94.51)\tvs\tTeam_38 (79.16)\tWINNER: Team_38 (79.16)\n",
      "G06: Team_41 (33.07)\tvs\tTeam_48 (89.14)\tWINNER: Team_48 (89.14)\n",
      "G07: Team_51 (87.02)\tvs\tTeam_56 (53.89)\tWINNER: Team_56 (53.89)\n",
      "G08: Team_57 (68.16)\tvs\tTeam_61 (24.5)\tWINNER: Team_61 (24.5)\n",
      "===== ROUND 04 =====\n",
      "G01: Team_7 (84.19)\tvs\tTeam_9 (69.28)\tWINNER: Team_7 (84.19)\n",
      "G02: Team_24 (62.35)\tvs\tTeam_27 (62.34)\tWINNER: Team_24 (62.35)\n",
      "G03: Team_38 (79.16)\tvs\tTeam_48 (89.14)\tWINNER: Team_48 (89.14)\n",
      "G04: Team_56 (53.89)\tvs\tTeam_61 (24.5)\tWINNER: Team_61 (24.5)\n",
      "===== ROUND 05 =====\n",
      "G01: Team_7 (84.19)\tvs\tTeam_24 (62.35)\tWINNER: Team_24 (62.35)\n",
      "G02: Team_48 (89.14)\tvs\tTeam_61 (24.5)\tWINNER: Team_48 (89.14)\n",
      "===== ROUND 06 =====\n",
      "G01: Team_24 (62.35)\tvs\tTeam_48 (89.14)\tWINNER: Team_48 (89.14)\n",
      "\n"
     ]
    }
   ],
   "source": [
    "tnm.play_all_games()\n",
    "print(tnm)"
   ]
  },
  {
   "cell_type": "code",
   "execution_count": 128,
   "id": "destroyed-court",
   "metadata": {},
   "outputs": [],
   "source": [
    "tnm.reset()\n",
    "tnm.set_teams_from_csv(\"teams_64.csv\")"
   ]
  },
  {
   "cell_type": "code",
   "execution_count": 129,
   "id": "peaceful-worcester",
   "metadata": {},
   "outputs": [
    {
     "name": "stdout",
     "output_type": "stream",
     "text": [
      "===== ROUND 01 =====\n",
      "G01: RTEAM_1 (44.74)\tvs\tRTEAM_2 (3.53)\tWINNER: None\n",
      "G02: RTEAM_3 (32.42)\tvs\tRTEAM_4 (41.79)\tWINNER: None\n",
      "G03: RTEAM_5 (24.59)\tvs\tRTEAM_6 (51.97)\tWINNER: None\n",
      "G04: RTEAM_7 (15.0)\tvs\tRTEAM_8 (49.51)\tWINNER: None\n",
      "G05: RTEAM_9 (59.66)\tvs\tRTEAM_10 (46.52)\tWINNER: None\n",
      "G06: RTEAM_11 (2.38)\tvs\tRTEAM_12 (53.6)\tWINNER: None\n",
      "G07: RTEAM_13 (26.34)\tvs\tRTEAM_14 (95.45)\tWINNER: None\n",
      "G08: RTEAM_15 (67.17)\tvs\tRTEAM_16 (66.86)\tWINNER: None\n",
      "G09: RTEAM_17 (47.23)\tvs\tRTEAM_18 (24.53)\tWINNER: None\n",
      "G10: RTEAM_19 (77.65)\tvs\tRTEAM_20 (50.68)\tWINNER: None\n",
      "G11: RTEAM_21 (82.06)\tvs\tRTEAM_22 (53.26)\tWINNER: None\n",
      "G12: RTEAM_23 (6.41)\tvs\tRTEAM_24 (66.58)\tWINNER: None\n",
      "G13: RTEAM_25 (41.84)\tvs\tRTEAM_26 (95.39)\tWINNER: None\n",
      "G14: RTEAM_27 (62.55)\tvs\tRTEAM_28 (44.09)\tWINNER: None\n",
      "G15: RTEAM_29 (82.71)\tvs\tRTEAM_30 (46.07)\tWINNER: None\n",
      "G16: RTEAM_31 (77.89)\tvs\tRTEAM_32 (24.58)\tWINNER: None\n",
      "G17: RTEAM_33 (23.2)\tvs\tRTEAM_34 (48.49)\tWINNER: None\n",
      "G18: RTEAM_35 (23.5)\tvs\tRTEAM_36 (92.36)\tWINNER: None\n",
      "G19: RTEAM_37 (74.16)\tvs\tRTEAM_38 (72.89)\tWINNER: None\n",
      "G20: RTEAM_39 (70.36)\tvs\tRTEAM_40 (52.59)\tWINNER: None\n",
      "G21: RTEAM_41 (37.71)\tvs\tRTEAM_42 (90.52)\tWINNER: None\n",
      "G22: RTEAM_43 (59.89)\tvs\tRTEAM_44 (27.14)\tWINNER: None\n",
      "G23: RTEAM_45 (33.56)\tvs\tRTEAM_46 (77.92)\tWINNER: None\n",
      "G24: RTEAM_47 (8.1)\tvs\tRTEAM_48 (96.33)\tWINNER: None\n",
      "G25: RTEAM_49 (23.12)\tvs\tRTEAM_50 (59.67)\tWINNER: None\n",
      "G26: RTEAM_51 (77.77)\tvs\tRTEAM_52 (52.56)\tWINNER: None\n",
      "G27: RTEAM_53 (21.94)\tvs\tRTEAM_54 (38.36)\tWINNER: None\n",
      "G28: RTEAM_55 (21.06)\tvs\tRTEAM_56 (38.58)\tWINNER: None\n",
      "G29: RTEAM_57 (64.2)\tvs\tRTEAM_58 (94.81)\tWINNER: None\n",
      "G30: RTEAM_59 (29.48)\tvs\tRTEAM_60 (51.17)\tWINNER: None\n",
      "G31: RTEAM_61 (51.73)\tvs\tRTEAM_62 (8.96)\tWINNER: None\n",
      "G32: RTEAM_63 (89.46)\tvs\tRTEAM_64 (99.44)\tWINNER: None\n",
      "===== ROUND 02 =====\n",
      "G01: None\tvs\tNone\tWINNER: None\n",
      "G02: None\tvs\tNone\tWINNER: None\n",
      "G03: None\tvs\tNone\tWINNER: None\n",
      "G04: None\tvs\tNone\tWINNER: None\n",
      "G05: None\tvs\tNone\tWINNER: None\n",
      "G06: None\tvs\tNone\tWINNER: None\n",
      "G07: None\tvs\tNone\tWINNER: None\n",
      "G08: None\tvs\tNone\tWINNER: None\n",
      "G09: None\tvs\tNone\tWINNER: None\n",
      "G10: None\tvs\tNone\tWINNER: None\n",
      "G11: None\tvs\tNone\tWINNER: None\n",
      "G12: None\tvs\tNone\tWINNER: None\n",
      "G13: None\tvs\tNone\tWINNER: None\n",
      "G14: None\tvs\tNone\tWINNER: None\n",
      "G15: None\tvs\tNone\tWINNER: None\n",
      "G16: None\tvs\tNone\tWINNER: None\n",
      "===== ROUND 03 =====\n",
      "G01: None\tvs\tNone\tWINNER: None\n",
      "G02: None\tvs\tNone\tWINNER: None\n",
      "G03: None\tvs\tNone\tWINNER: None\n",
      "G04: None\tvs\tNone\tWINNER: None\n",
      "G05: None\tvs\tNone\tWINNER: None\n",
      "G06: None\tvs\tNone\tWINNER: None\n",
      "G07: None\tvs\tNone\tWINNER: None\n",
      "G08: None\tvs\tNone\tWINNER: None\n",
      "===== ROUND 04 =====\n",
      "G01: None\tvs\tNone\tWINNER: None\n",
      "G02: None\tvs\tNone\tWINNER: None\n",
      "G03: None\tvs\tNone\tWINNER: None\n",
      "G04: None\tvs\tNone\tWINNER: None\n",
      "===== ROUND 05 =====\n",
      "G01: None\tvs\tNone\tWINNER: None\n",
      "G02: None\tvs\tNone\tWINNER: None\n",
      "===== ROUND 06 =====\n",
      "G01: None\tvs\tNone\tWINNER: None\n",
      "\n"
     ]
    }
   ],
   "source": [
    "print(tnm)"
   ]
  },
  {
   "cell_type": "code",
   "execution_count": 130,
   "id": "announced-orbit",
   "metadata": {},
   "outputs": [
    {
     "name": "stdout",
     "output_type": "stream",
     "text": [
      "===== ROUND 01 =====\n",
      "G01: RTEAM_1 (44.74)\tvs\tRTEAM_2 (3.53)\tWINNER: RTEAM_1 (44.74)\n",
      "G02: RTEAM_3 (32.42)\tvs\tRTEAM_4 (41.79)\tWINNER: RTEAM_4 (41.79)\n",
      "G03: RTEAM_5 (24.59)\tvs\tRTEAM_6 (51.97)\tWINNER: RTEAM_6 (51.97)\n",
      "G04: RTEAM_7 (15.0)\tvs\tRTEAM_8 (49.51)\tWINNER: RTEAM_8 (49.51)\n",
      "G05: RTEAM_9 (59.66)\tvs\tRTEAM_10 (46.52)\tWINNER: RTEAM_10 (46.52)\n",
      "G06: RTEAM_11 (2.38)\tvs\tRTEAM_12 (53.6)\tWINNER: RTEAM_12 (53.6)\n",
      "G07: RTEAM_13 (26.34)\tvs\tRTEAM_14 (95.45)\tWINNER: RTEAM_14 (95.45)\n",
      "G08: RTEAM_15 (67.17)\tvs\tRTEAM_16 (66.86)\tWINNER: RTEAM_15 (67.17)\n",
      "G09: RTEAM_17 (47.23)\tvs\tRTEAM_18 (24.53)\tWINNER: RTEAM_17 (47.23)\n",
      "G10: RTEAM_19 (77.65)\tvs\tRTEAM_20 (50.68)\tWINNER: RTEAM_19 (77.65)\n",
      "G11: RTEAM_21 (82.06)\tvs\tRTEAM_22 (53.26)\tWINNER: RTEAM_22 (53.26)\n",
      "G12: RTEAM_23 (6.41)\tvs\tRTEAM_24 (66.58)\tWINNER: RTEAM_24 (66.58)\n",
      "G13: RTEAM_25 (41.84)\tvs\tRTEAM_26 (95.39)\tWINNER: RTEAM_26 (95.39)\n",
      "G14: RTEAM_27 (62.55)\tvs\tRTEAM_28 (44.09)\tWINNER: RTEAM_28 (44.09)\n",
      "G15: RTEAM_29 (82.71)\tvs\tRTEAM_30 (46.07)\tWINNER: RTEAM_30 (46.07)\n",
      "G16: RTEAM_31 (77.89)\tvs\tRTEAM_32 (24.58)\tWINNER: RTEAM_31 (77.89)\n",
      "G17: RTEAM_33 (23.2)\tvs\tRTEAM_34 (48.49)\tWINNER: RTEAM_33 (23.2)\n",
      "G18: RTEAM_35 (23.5)\tvs\tRTEAM_36 (92.36)\tWINNER: RTEAM_36 (92.36)\n",
      "G19: RTEAM_37 (74.16)\tvs\tRTEAM_38 (72.89)\tWINNER: RTEAM_37 (74.16)\n",
      "G20: RTEAM_39 (70.36)\tvs\tRTEAM_40 (52.59)\tWINNER: RTEAM_39 (70.36)\n",
      "G21: RTEAM_41 (37.71)\tvs\tRTEAM_42 (90.52)\tWINNER: RTEAM_42 (90.52)\n",
      "G22: RTEAM_43 (59.89)\tvs\tRTEAM_44 (27.14)\tWINNER: RTEAM_43 (59.89)\n",
      "G23: RTEAM_45 (33.56)\tvs\tRTEAM_46 (77.92)\tWINNER: RTEAM_46 (77.92)\n",
      "G24: RTEAM_47 (8.1)\tvs\tRTEAM_48 (96.33)\tWINNER: RTEAM_48 (96.33)\n",
      "G25: RTEAM_49 (23.12)\tvs\tRTEAM_50 (59.67)\tWINNER: RTEAM_50 (59.67)\n",
      "G26: RTEAM_51 (77.77)\tvs\tRTEAM_52 (52.56)\tWINNER: RTEAM_51 (77.77)\n",
      "G27: RTEAM_53 (21.94)\tvs\tRTEAM_54 (38.36)\tWINNER: RTEAM_54 (38.36)\n",
      "G28: RTEAM_55 (21.06)\tvs\tRTEAM_56 (38.58)\tWINNER: RTEAM_56 (38.58)\n",
      "G29: RTEAM_57 (64.2)\tvs\tRTEAM_58 (94.81)\tWINNER: RTEAM_57 (64.2)\n",
      "G30: RTEAM_59 (29.48)\tvs\tRTEAM_60 (51.17)\tWINNER: RTEAM_60 (51.17)\n",
      "G31: RTEAM_61 (51.73)\tvs\tRTEAM_62 (8.96)\tWINNER: RTEAM_61 (51.73)\n",
      "G32: RTEAM_63 (89.46)\tvs\tRTEAM_64 (99.44)\tWINNER: RTEAM_64 (99.44)\n",
      "===== ROUND 02 =====\n",
      "G01: RTEAM_1 (44.74)\tvs\tRTEAM_4 (41.79)\tWINNER: RTEAM_4 (41.79)\n",
      "G02: RTEAM_6 (51.97)\tvs\tRTEAM_8 (49.51)\tWINNER: RTEAM_6 (51.97)\n",
      "G03: RTEAM_10 (46.52)\tvs\tRTEAM_12 (53.6)\tWINNER: RTEAM_12 (53.6)\n",
      "G04: RTEAM_14 (95.45)\tvs\tRTEAM_15 (67.17)\tWINNER: RTEAM_15 (67.17)\n",
      "G05: RTEAM_17 (47.23)\tvs\tRTEAM_19 (77.65)\tWINNER: RTEAM_19 (77.65)\n",
      "G06: RTEAM_22 (53.26)\tvs\tRTEAM_24 (66.58)\tWINNER: RTEAM_22 (53.26)\n",
      "G07: RTEAM_26 (95.39)\tvs\tRTEAM_28 (44.09)\tWINNER: RTEAM_26 (95.39)\n",
      "G08: RTEAM_30 (46.07)\tvs\tRTEAM_31 (77.89)\tWINNER: RTEAM_31 (77.89)\n",
      "G09: RTEAM_33 (23.2)\tvs\tRTEAM_36 (92.36)\tWINNER: RTEAM_36 (92.36)\n",
      "G10: RTEAM_37 (74.16)\tvs\tRTEAM_39 (70.36)\tWINNER: RTEAM_39 (70.36)\n",
      "G11: RTEAM_42 (90.52)\tvs\tRTEAM_43 (59.89)\tWINNER: RTEAM_42 (90.52)\n",
      "G12: RTEAM_46 (77.92)\tvs\tRTEAM_48 (96.33)\tWINNER: RTEAM_48 (96.33)\n",
      "G13: RTEAM_50 (59.67)\tvs\tRTEAM_51 (77.77)\tWINNER: RTEAM_50 (59.67)\n",
      "G14: RTEAM_54 (38.36)\tvs\tRTEAM_56 (38.58)\tWINNER: RTEAM_56 (38.58)\n",
      "G15: RTEAM_57 (64.2)\tvs\tRTEAM_60 (51.17)\tWINNER: RTEAM_57 (64.2)\n",
      "G16: RTEAM_61 (51.73)\tvs\tRTEAM_64 (99.44)\tWINNER: RTEAM_61 (51.73)\n",
      "===== ROUND 03 =====\n",
      "G01: RTEAM_4 (41.79)\tvs\tRTEAM_6 (51.97)\tWINNER: RTEAM_6 (51.97)\n",
      "G02: RTEAM_12 (53.6)\tvs\tRTEAM_15 (67.17)\tWINNER: RTEAM_12 (53.6)\n",
      "G03: RTEAM_19 (77.65)\tvs\tRTEAM_22 (53.26)\tWINNER: RTEAM_22 (53.26)\n",
      "G04: RTEAM_26 (95.39)\tvs\tRTEAM_31 (77.89)\tWINNER: RTEAM_31 (77.89)\n",
      "G05: RTEAM_36 (92.36)\tvs\tRTEAM_39 (70.36)\tWINNER: RTEAM_36 (92.36)\n",
      "G06: RTEAM_42 (90.52)\tvs\tRTEAM_48 (96.33)\tWINNER: RTEAM_42 (90.52)\n",
      "G07: RTEAM_50 (59.67)\tvs\tRTEAM_56 (38.58)\tWINNER: RTEAM_56 (38.58)\n",
      "G08: RTEAM_57 (64.2)\tvs\tRTEAM_61 (51.73)\tWINNER: RTEAM_57 (64.2)\n",
      "===== ROUND 04 =====\n",
      "G01: RTEAM_6 (51.97)\tvs\tRTEAM_12 (53.6)\tWINNER: RTEAM_6 (51.97)\n",
      "G02: RTEAM_22 (53.26)\tvs\tRTEAM_31 (77.89)\tWINNER: RTEAM_31 (77.89)\n",
      "G03: RTEAM_36 (92.36)\tvs\tRTEAM_42 (90.52)\tWINNER: RTEAM_36 (92.36)\n",
      "G04: RTEAM_56 (38.58)\tvs\tRTEAM_57 (64.2)\tWINNER: RTEAM_57 (64.2)\n",
      "===== ROUND 05 =====\n",
      "G01: RTEAM_6 (51.97)\tvs\tRTEAM_31 (77.89)\tWINNER: RTEAM_31 (77.89)\n",
      "G02: RTEAM_36 (92.36)\tvs\tRTEAM_57 (64.2)\tWINNER: RTEAM_57 (64.2)\n",
      "===== ROUND 06 =====\n",
      "G01: RTEAM_31 (77.89)\tvs\tRTEAM_57 (64.2)\tWINNER: RTEAM_31 (77.89)\n",
      "\n"
     ]
    }
   ],
   "source": [
    "tnm.play_all_games()\n",
    "print(tnm)"
   ]
  },
  {
   "cell_type": "code",
   "execution_count": null,
   "id": "robust-audio",
   "metadata": {},
   "outputs": [],
   "source": []
  },
  {
   "cell_type": "code",
   "execution_count": null,
   "id": "immune-conservation",
   "metadata": {},
   "outputs": [],
   "source": []
  }
 ],
 "metadata": {
  "kernelspec": {
   "display_name": "ssnc",
   "language": "python",
   "name": "ssnc"
  },
  "language_info": {
   "codemirror_mode": {
    "name": "ipython",
    "version": 3
   },
   "file_extension": ".py",
   "mimetype": "text/x-python",
   "name": "python",
   "nbconvert_exporter": "python",
   "pygments_lexer": "ipython3",
   "version": "3.6.12"
  }
 },
 "nbformat": 4,
 "nbformat_minor": 5
}
